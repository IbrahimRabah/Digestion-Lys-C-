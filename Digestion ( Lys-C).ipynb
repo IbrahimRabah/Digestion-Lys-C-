{
 "cells": [
  {
   "cell_type": "code",
   "execution_count": 2,
   "id": "b9c10cbf",
   "metadata": {},
   "outputs": [],
   "source": [
    "import pyopenms"
   ]
  },
  {
   "cell_type": "code",
   "execution_count": 10,
   "id": "7236a1db",
   "metadata": {},
   "outputs": [
    {
     "name": "stdout",
     "output_type": "stream",
     "text": [
      "[b'proline-endopeptidase/HKR', b'Alpha-lytic protease', b'no cleavage', b'Glu-C+P', b'Clostripain/P', b'unspecific cleavage', b'elastase-trypsin-chymotrypsin', b'iodosobenzoate', b'2-iodobenzoate', b'PepsinA + P', b'staphylococcal protease/D', b'cyanogen-bromide', b'V8-DE', b'V8-E', b'Arg-C/P', b'Asp-N/B', b'CNBr', b'Lys-C', b'PepsinA', b'leukocyte elastase', b'proline endopeptidase', b'glutamyl endopeptidase', b'Formic_acid', b'TrypChymo', b'Trypsin', b'Arg-C', b'Asp-N', b'Chymotrypsin/P', b'Chymotrypsin', b'Lys-N', b'Lys-C/P', b'Asp-N_ambic', b'Trypsin/P']\n"
     ]
    },
    {
     "data": {
      "text/plain": [
       "'Lys-C cuts after K if not followed by P.'"
      ]
     },
     "execution_count": 10,
     "metadata": {},
     "output_type": "execute_result"
    }
   ],
   "source": [
    "names = []\n",
    "ProteaseDB().getAllNames(names)\n",
    "len(names) # at least 25 by default\n",
    "print(names)\n",
    "\n",
    "e = ProteaseDB().getEnzyme('Lys-C')\n",
    "e.getRegExDescription()"
   ]
  },
  {
   "cell_type": "code",
   "execution_count": 11,
   "id": "9b34a186",
   "metadata": {},
   "outputs": [
    {
     "name": "stdout",
     "output_type": "stream",
     "text": [
      "FDTNSHNDDALLK\n"
     ]
    },
    {
     "data": {
      "text/plain": [
       "10"
      ]
     },
     "execution_count": 11,
     "metadata": {},
     "output_type": "execute_result"
    }
   ],
   "source": [
    "from urllib.request import urlretrieve\n",
    "gh = \"https://www.uniprot.org/uniprot/P01241.fasta\"\n",
    "urlretrieve (gh , \"human.fasta\")\n",
    "\n",
    "dig = ProteaseDigestion()\n",
    "dig.setEnzyme('Lys-C')\n",
    "bsa = \"\".join([l.strip() for l in open(\"human.fasta\").readlines()[1:]])\n",
    "bsa = AASequence.fromString(bsa)\n",
    "result = []\n",
    "dig.digest(bsa, result)\n",
    "print(result[6].toString())\n",
    "len(result) # 10 peptides"
   ]
  },
  {
   "cell_type": "code",
   "execution_count": 12,
   "id": "22e1fd9c",
   "metadata": {},
   "outputs": [
    {
     "name": "stdout",
     "output_type": "stream",
     "text": [
      "SGQIQPHLDQLNLVLRDNTFIVSTLYPTSTDVHVFEVALPLIK\n"
     ]
    },
    {
     "data": {
      "text/plain": [
       "44"
      ]
     },
     "execution_count": 12,
     "metadata": {},
     "output_type": "execute_result"
    }
   ],
   "source": [
    "gh = \"https://www.uniprot.org/uniprot/P46672.fasta\"\n",
    "urlretrieve (gh , \"YEAST.fasta\")\n",
    "\n",
    "dig = ProteaseDigestion()\n",
    "dig.setEnzyme('Lys-C')\n",
    "bsa = \"\".join([l.strip() for l in open(\"YEAST.fasta\").readlines()[1:]])\n",
    "bsa = AASequence.fromString(bsa)\n",
    "result = []\n",
    "dig.digest(bsa, result)\n",
    "print(result[4].toString())\n",
    "len(result) # 44 peptides"
   ]
  },
  {
   "cell_type": "code",
   "execution_count": null,
   "id": "427d5a2d",
   "metadata": {},
   "outputs": [],
   "source": []
  }
 ],
 "metadata": {
  "kernelspec": {
   "display_name": "Python 3",
   "language": "python",
   "name": "python3"
  },
  "language_info": {
   "codemirror_mode": {
    "name": "ipython",
    "version": 3
   },
   "file_extension": ".py",
   "mimetype": "text/x-python",
   "name": "python",
   "nbconvert_exporter": "python",
   "pygments_lexer": "ipython3",
   "version": "3.8.8"
  }
 },
 "nbformat": 4,
 "nbformat_minor": 5
}
